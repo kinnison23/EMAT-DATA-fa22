{
 "cells": [
  {
   "cell_type": "markdown",
   "id": "88e0e438",
   "metadata": {},
   "source": [
    "Twitter Text Report\n",
    "Chris Kinnison\n",
    "October 25th, 2022.\n",
    "\n",
    "   The question that I had been curious in researching more into was what is the public sentiment of the Brown's head coach after these last few games that we have lost. Kevin Stefanski has been the head coach for the past almost 3 years for the Browns. Today, the Browns have a very talented and skillful roster, arguably more so than almost ever before. We objectively  have the best running back in the league as of right now, as well as a great defensive line in Miles Garret and Jadeveon Clowney. Will all of that being said, we are currently on a 4 game loosing streak, with a record of 2 wins and 5 losses. A thing for fans to consider is that even though he is doing not to great as of right now, Kevin did lead us to our first playoff win in 24 years as his first year coaching the Browns.\n",
    "   Considering all of this, I thought it would be very interesting to see what the fans of the Browns think about their head coach, whether they want to give him a chance to continue, or whether they want a new one completely. Just from my personal experience alone, I know that Browns fans are not the biggest fan of loosing. I have personally heard cries to replace Kevin Stefanski, and I want to know if that is everyone else's opinion as well, or if there is some people going to bat for Kevin and defending him."
   ]
  },
  {
   "cell_type": "code",
   "execution_count": 122,
   "id": "970d8fc5",
   "metadata": {},
   "outputs": [],
   "source": [
    "import pandas as pd\n",
    "import json\n",
    "import urllib\n",
    "import requests"
   ]
  },
  {
   "cell_type": "code",
   "execution_count": 123,
   "id": "3fce898c",
   "metadata": {},
   "outputs": [],
   "source": [
    "bt = pd.read_csv('Bearer_Token.txt', header = 0, sep = '\\t')"
   ]
  },
  {
   "cell_type": "code",
   "execution_count": 124,
   "id": "0e067a3a",
   "metadata": {},
   "outputs": [],
   "source": [
    "headers = {'Authorization':'Bearer {}'.format(bt['Bearer_Token'].iloc[0])}"
   ]
  },
  {
   "cell_type": "markdown",
   "id": "9ea84e0b",
   "metadata": {},
   "source": [
    "To get started, I first developed a query that could lead me to get some answers on the question at hand. I also included certain fields that I though would be helpful in answering my question. An obvious one to include was public metrics. This would let me see the likes and retweet counts on all of the tweets that I would be collecting. This will help give insight on whether a lot of people are agreeing with certain narratives on the head coach or not. A tweet with a high number of likes and retweets would mean that particular statement is agrees upon by many other fans, not just that one individual. Another field that I thought would be interesting to play around with was the created at tweet field. I used this to see what the funs were saying right after the most recent loss, as well as right now."
   ]
  },
  {
   "cell_type": "code",
   "execution_count": 125,
   "id": "00cbb0b0",
   "metadata": {},
   "outputs": [],
   "source": [
    "endpoint = 'https://api.twitter.com/2/tweets/search/recent'"
   ]
  },
  {
   "cell_type": "code",
   "execution_count": 126,
   "id": "a2defe9a",
   "metadata": {},
   "outputs": [],
   "source": [
    "query_p = urllib.parse.quote('Kevin Stefanski OR Stefanski Browns OR Stefanski fired')"
   ]
  },
  {
   "cell_type": "code",
   "execution_count": 127,
   "id": "77df9171",
   "metadata": {},
   "outputs": [],
   "source": [
    "tweet_fields = 'public_metrics,lang,author_id,created_at'"
   ]
  },
  {
   "cell_type": "code",
   "execution_count": 128,
   "id": "28435eb4",
   "metadata": {},
   "outputs": [],
   "source": [
    "user_fields = 'username'"
   ]
  },
  {
   "cell_type": "code",
   "execution_count": 129,
   "id": "1a909552",
   "metadata": {},
   "outputs": [],
   "source": [
    "expansions = 'entities.mentions.username'"
   ]
  },
  {
   "cell_type": "code",
   "execution_count": 130,
   "id": "b14deb22",
   "metadata": {},
   "outputs": [],
   "source": [
    "query_url = endpoint + '?query={}&tweet.fields={}&user.fields={}&expansions={}'.format(query_p, tweet_fields, user_fields, expansions)"
   ]
  },
  {
   "cell_type": "markdown",
   "id": "525e7a6b",
   "metadata": {},
   "source": [
    "I then sent for a request from twitter after my query and url had been created."
   ]
  },
  {
   "cell_type": "code",
   "execution_count": 131,
   "id": "25a8f037",
   "metadata": {},
   "outputs": [],
   "source": [
    "response = requests.get(query_url, headers = headers)"
   ]
  },
  {
   "cell_type": "code",
   "execution_count": 132,
   "id": "833682b0",
   "metadata": {
    "scrolled": true
   },
   "outputs": [
    {
     "data": {
      "text/plain": [
       "'{\"data\":[{\"entities\":{\"mentions\":[{\"start\":3,\"end\":16,\"username\":\"TheKennyRoda\",\"id\":\"60101194\"},{\"start\":23,\"end\":37,\"username\":\"MGMNorthfield\",\"id\":\"1860554371\"},{\"start\":38,\"end\":48,\"username\":\"ReghiRoda\",\"id\":\"1401205305434857473\"}]},\"created_at\":\"2022-10-25T16:37:24.000Z\",\"author_id\":\"60101194\",\"lang\":\"en\",\"edit_history_tweet_ids\":[\"1584947244843040769\"],\"text\":\"RT @TheKennyRoda: \\\\uD83D\\\\uDD25New @MGMNorthfield @ReghiRoda Pod\\\\uD83D\\\\uDD25\\\\n\\\\uD83C\\\\uDFC8#Browns (2-5) after 4th loss in a row\\\\n\\\\uD83C\\\\uDFC8Stefanski Stinks\\\\n\\\\uD83C\\\\uDFC8Must Win vs Cincy\\\\n⚾️Guardia…\",\"id\":\"1584947244843040769\",\"public_metrics\":{\"retweet_count\":3,\"reply_count\":0,\"like_count\":0,\"quote_count\":0}},{\"created_at\":\"2022-10-25T16:37:12.000Z\",\"author_id\":\"518130293\",\"lang\":\"en\",\"edit_history_tweet_ids\":[\"1584947193651154956\"],\"text\":\"Who is Stefanski constantly talking to in his head set?  #Browns\",\"id\":\"1584947193651154956\",\"public_metrics\":{\"retweet_count\":0,\"reply_count\":0,\"like_count\":0,\"quote_count\":0}},{\"entities\":{\"mentions\":[{\"start\":0,\"end\":8,\"username\":\"DPD_CLE\",\"id\":\"4807373175\"}]},\"created_at\":\"2022-10-25T16:36:07.000Z\",\"author_id\":\"799674268925632513\",\"lang\":\"en\",\"edit_history_tweet_ids\":[\"1584946922665562118\"],\"text\":\"@DPD_CLE Certain Browns fans are just toxic. They wanna trade everybody and/or fire everybody. Firing Stefanski doesn\\'t fix all the issues that this team has right now. It\\'s way more than him.\",\"id\":\"1584946922665562118\",\"public_metrics\":{\"retweet_count\":0,\"reply_count\":0,\"like_count\":0,\"quote_count\":0}},{\"entities\":{\"mentions\":[{\"start\":3,\"end\":15,\"username\":\"BBerbari_3K\",\"id\":\"276336835\"},{\"start\":17,\"end\":31,\"username\":\"DollarDogNick\",\"id\":\"1031268878125547520\"}]},\"created_at\":\"2022-10-25T16:33:53.000Z\",\"author_id\":\"1312549723753111557\",\"lang\":\"en\",\"edit_history_tweet_ids\":[\"1584946357345062913\"],\"text\":\"RT @BBerbari_3K: @DollarDogNick Browns record last 80 games without Kevin Stefanski: 17-62-1\\\\n\\\\nBrowns record with Kevin Stefanski - 21-19\",\"id\":\"1584946357345062913\",\"public_metrics\":{\"retweet_count\":7,\"reply_count\":0,\"like_count\":0,\"quote_count\":0}},{\"created_at\":\"2022-10-25T16:30:19.000Z\",\"author_id\":\"2169834448\",\"lang\":\"en\",\"edit_history_tweet_ids\":[\"1584945461420765191\"],\"text\":\"Theory: Stoic Stefanski isn’t the savior to Cleveland. He is better than what we’ve had, yes. Reminds me of a little someone the Browns used to employ.\",\"id\":\"1584945461420765191\",\"public_metrics\":{\"retweet_count\":0,\"reply_count\":0,\"like_count\":0,\"quote_count\":0}},{\"entities\":{\"mentions\":[{\"start\":3,\"end\":15,\"username\":\"karnsies817\",\"id\":\"826447663\"}]},\"created_at\":\"2022-10-25T16:29:04.000Z\",\"author_id\":\"849271242171359233\",\"lang\":\"en\",\"edit_history_tweet_ids\":[\"1584945148768571395\"],\"text\":\"RT @karnsies817: The Browns have never lost to the Bengals in the Kevin Stefanski era. \\\\n\\\\nIf there was ever a time for a get right game, Mon…\",\"id\":\"1584945148768571395\",\"public_metrics\":{\"retweet_count\":21,\"reply_count\":0,\"like_count\":0,\"quote_count\":0}},{\"entities\":{\"mentions\":[{\"start\":3,\"end\":18,\"username\":\"RuiterWrongFAN\",\"id\":\"29753270\"}]},\"created_at\":\"2022-10-25T16:28:38.000Z\",\"author_id\":\"849271242171359233\",\"lang\":\"en\",\"edit_history_tweet_ids\":[\"1584945039054364673\"],\"text\":\"RT @RuiterWrongFAN: Kevin Stefanski thought holding Nick Chubb to 12 carries &amp; Kareem Hunt to 4 was a great game plan against #Patriots. Me…\",\"id\":\"1584945039054364673\",\"public_metrics\":{\"retweet_count\":83,\"reply_count\":0,\"like_count\":0,\"quote_count\":0}},{\"entities\":{\"mentions\":[{\"start\":3,\"end\":15,\"username\":\"JaimeEisner\",\"id\":\"182136709\"},{\"start\":71,\"end\":84,\"username\":\"betonline_ag\",\"id\":\"852155385213571077\"}]},\"created_at\":\"2022-10-25T16:27:34.000Z\",\"author_id\":\"19757290\",\"lang\":\"en\",\"edit_history_tweet_ids\":[\"1584944770060668936\"],\"text\":\"RT @JaimeEisner: Who will be the next #NFL head coach fired? (Odds via @betonline_ag):\\\\n\\\\nNathaniel Hackett (-150)\\\\nKliff Kingsbury (+250)\\\\nFra…\",\"id\":\"1584944770060668936\",\"public_metrics\":{\"retweet_count\":7,\"reply_count\":0,\"like_count\":0,\"quote_count\":0}},{\"created_at\":\"2022-10-25T16:22:57.000Z\",\"author_id\":\"3990939797\",\"lang\":\"en\",\"edit_history_tweet_ids\":[\"1584943608557621249\"],\"text\":\"Stefanski features 12-15 plays a week for David Njoku as number one receiver\\\\n\\\\nThis doesn’t even acknowledge the screen game of which the Browns call at least 6 times a game https://t.co/VTkKNAtBdN\",\"id\":\"1584943608557621249\",\"public_metrics\":{\"retweet_count\":0,\"reply_count\":1,\"like_count\":0,\"quote_count\":0}},{\"entities\":{\"mentions\":[{\"start\":3,\"end\":17,\"username\":\"Browns_Possum\",\"id\":\"1042970598056574976\"}]},\"created_at\":\"2022-10-25T16:22:56.000Z\",\"author_id\":\"2180997511\",\"lang\":\"en\",\"edit_history_tweet_ids\":[\"1584943602177781760\"],\"text\":\"RT @Browns_Possum: Kevin Stefanski is 22-20 as the #Browns head coach… many of those loses by a single score… and all of those games withou…\",\"id\":\"1584943602177781760\",\"public_metrics\":{\"retweet_count\":7,\"reply_count\":0,\"like_count\":0,\"quote_count\":0}}],\"includes\":{\"users\":[{\"id\":\"60101194\",\"name\":\"Kenny \\\\\"The Roadman\\\\\" Roda\\\\uD83C\\\\uDF99\\\\uD83C\\\\uDFA7\\\\uD83D\\\\uDCFB\\\\uD83C\\\\uDFC8⚾️\\\\uD83C\\\\uDFC0\\\\uD83C\\\\uDFD2⚽️\",\"username\":\"TheKennyRoda\"},{\"id\":\"1860554371\",\"name\":\"MGM Northfield Park\",\"username\":\"MGMNorthfield\"},{\"id\":\"1401205305434857473\",\"name\":\"Reghi & Roda Podcast\",\"username\":\"ReghiRoda\"},{\"id\":\"4807373175\",\"name\":\"DawgPoundDweller\",\"username\":\"DPD_CLE\"},{\"id\":\"276336835\",\"name\":\"Brad (1-1) #LetEmKnow\",\"username\":\"BBerbari_3K\"},{\"id\":\"1031268878125547520\",\"name\":\"DollarDog Nick\",\"username\":\"DollarDogNick\"},{\"id\":\"826447663\",\"name\":\"Nick Karns\",\"username\":\"karnsies817\"},{\"id\":\"29753270\",\"name\":\"Daryl Ruiter\",\"username\":\"RuiterWrongFAN\"},{\"id\":\"182136709\",\"name\":\"Jaime Eisner\",\"username\":\"JaimeEisner\"},{\"id\":\"852155385213571077\",\"name\":\"BetOnline.ag\",\"username\":\"betonline_ag\"},{\"id\":\"1042970598056574976\",\"name\":\"Browns Rally Possum\",\"username\":\"Browns_Possum\"}]},\"meta\":{\"newest_id\":\"1584947244843040769\",\"oldest_id\":\"1584943602177781760\",\"result_count\":10,\"next_token\":\"b26v89c19zqg8o3fpzel4w5nv56xbz1a65qpsc141b5a5\"}}'"
      ]
     },
     "execution_count": 132,
     "metadata": {},
     "output_type": "execute_result"
    }
   ],
   "source": [
    "response.text"
   ]
  },
  {
   "cell_type": "markdown",
   "id": "35a6f568",
   "metadata": {},
   "source": [
    "Here I create a function in order to get a larger number of texts in my search. Twitters default is 10, and I wanted 300 in order to get a broader view and collect more data and receive more opinions on the matter. After that I add all of it into a single data frame using pandas, and then drop the fields that I felt were not necessary to answering my question."
   ]
  },
  {
   "cell_type": "code",
   "execution_count": 133,
   "id": "9ca75ae4",
   "metadata": {},
   "outputs": [],
   "source": [
    "def twt_recent_search (query, num_pages, headers):\n",
    "    response_list = []\n",
    "    next_token = ''\n",
    "    for i in range(0, num_pages):\n",
    "        if i > 0:\n",
    "            this_query = query + \"&next_token={}\".format(next_token)\n",
    "        else:\n",
    "            this_query = query\n",
    "\n",
    "        this_response = requests.get(query, headers = headers)\n",
    "        this_response_dict = json.loads(this_response.text)\n",
    "        response_list.append(this_response_dict)\n",
    "        next_token = this_response_dict['meta']['next_token']    \n",
    "    return response_list"
   ]
  },
  {
   "cell_type": "code",
   "execution_count": 134,
   "id": "ff311564",
   "metadata": {},
   "outputs": [],
   "source": [
    "my_responses = twt_recent_search(query_url, 30, headers)"
   ]
  },
  {
   "cell_type": "code",
   "execution_count": 135,
   "id": "e00758bf",
   "metadata": {},
   "outputs": [
    {
     "data": {
      "text/plain": [
       "30"
      ]
     },
     "execution_count": 135,
     "metadata": {},
     "output_type": "execute_result"
    }
   ],
   "source": [
    "len(my_responses)"
   ]
  },
  {
   "cell_type": "code",
   "execution_count": 136,
   "id": "82a653bd",
   "metadata": {},
   "outputs": [
    {
     "data": {
      "text/plain": [
       "dict_keys(['public_metrics', 'id', 'author_id', 'edit_history_tweet_ids', 'text', 'entities', 'lang', 'created_at'])"
      ]
     },
     "execution_count": 136,
     "metadata": {},
     "output_type": "execute_result"
    }
   ],
   "source": [
    "my_responses[2]['data'][0].keys()"
   ]
  },
  {
   "cell_type": "code",
   "execution_count": 137,
   "id": "99279f3d",
   "metadata": {},
   "outputs": [],
   "source": [
    "results_1 = pd.DataFrame.from_records(my_responses)"
   ]
  },
  {
   "cell_type": "code",
   "execution_count": 138,
   "id": "747d30a3",
   "metadata": {},
   "outputs": [
    {
     "data": {
      "text/html": [
       "<div>\n",
       "<style scoped>\n",
       "    .dataframe tbody tr th:only-of-type {\n",
       "        vertical-align: middle;\n",
       "    }\n",
       "\n",
       "    .dataframe tbody tr th {\n",
       "        vertical-align: top;\n",
       "    }\n",
       "\n",
       "    .dataframe thead th {\n",
       "        text-align: right;\n",
       "    }\n",
       "</style>\n",
       "<table border=\"1\" class=\"dataframe\">\n",
       "  <thead>\n",
       "    <tr style=\"text-align: right;\">\n",
       "      <th></th>\n",
       "      <th>data</th>\n",
       "      <th>includes</th>\n",
       "      <th>meta</th>\n",
       "    </tr>\n",
       "  </thead>\n",
       "  <tbody>\n",
       "    <tr>\n",
       "      <th>0</th>\n",
       "      <td>[{'text': 'RT @TheKennyRoda: 🔥New @MGMNorthfie...</td>\n",
       "      <td>{'users': [{'id': '60101194', 'name': 'Kenny \"...</td>\n",
       "      <td>{'newest_id': '1584947244843040769', 'oldest_i...</td>\n",
       "    </tr>\n",
       "    <tr>\n",
       "      <th>1</th>\n",
       "      <td>[{'text': 'RT @TheKennyRoda: 🔥New @MGMNorthfie...</td>\n",
       "      <td>{'users': [{'id': '60101194', 'name': 'Kenny \"...</td>\n",
       "      <td>{'newest_id': '1584947244843040769', 'oldest_i...</td>\n",
       "    </tr>\n",
       "    <tr>\n",
       "      <th>2</th>\n",
       "      <td>[{'public_metrics': {'retweet_count': 3, 'repl...</td>\n",
       "      <td>{'users': [{'id': '60101194', 'name': 'Kenny \"...</td>\n",
       "      <td>{'newest_id': '1584947244843040769', 'oldest_i...</td>\n",
       "    </tr>\n",
       "    <tr>\n",
       "      <th>3</th>\n",
       "      <td>[{'lang': 'en', 'created_at': '2022-10-25T16:3...</td>\n",
       "      <td>{'users': [{'id': '60101194', 'name': 'Kenny \"...</td>\n",
       "      <td>{'newest_id': '1584947244843040769', 'oldest_i...</td>\n",
       "    </tr>\n",
       "    <tr>\n",
       "      <th>4</th>\n",
       "      <td>[{'entities': {'mentions': [{'start': 3, 'end'...</td>\n",
       "      <td>{'users': [{'id': '60101194', 'name': 'Kenny \"...</td>\n",
       "      <td>{'newest_id': '1584947244843040769', 'oldest_i...</td>\n",
       "    </tr>\n",
       "  </tbody>\n",
       "</table>\n",
       "</div>"
      ],
      "text/plain": [
       "                                                data  \\\n",
       "0  [{'text': 'RT @TheKennyRoda: 🔥New @MGMNorthfie...   \n",
       "1  [{'text': 'RT @TheKennyRoda: 🔥New @MGMNorthfie...   \n",
       "2  [{'public_metrics': {'retweet_count': 3, 'repl...   \n",
       "3  [{'lang': 'en', 'created_at': '2022-10-25T16:3...   \n",
       "4  [{'entities': {'mentions': [{'start': 3, 'end'...   \n",
       "\n",
       "                                            includes  \\\n",
       "0  {'users': [{'id': '60101194', 'name': 'Kenny \"...   \n",
       "1  {'users': [{'id': '60101194', 'name': 'Kenny \"...   \n",
       "2  {'users': [{'id': '60101194', 'name': 'Kenny \"...   \n",
       "3  {'users': [{'id': '60101194', 'name': 'Kenny \"...   \n",
       "4  {'users': [{'id': '60101194', 'name': 'Kenny \"...   \n",
       "\n",
       "                                                meta  \n",
       "0  {'newest_id': '1584947244843040769', 'oldest_i...  \n",
       "1  {'newest_id': '1584947244843040769', 'oldest_i...  \n",
       "2  {'newest_id': '1584947244843040769', 'oldest_i...  \n",
       "3  {'newest_id': '1584947244843040769', 'oldest_i...  \n",
       "4  {'newest_id': '1584947244843040769', 'oldest_i...  "
      ]
     },
     "execution_count": 138,
     "metadata": {},
     "output_type": "execute_result"
    }
   ],
   "source": [
    "results_1.head()"
   ]
  },
  {
   "cell_type": "code",
   "execution_count": 139,
   "id": "11df4cf9",
   "metadata": {},
   "outputs": [],
   "source": [
    "data_list = list(results_1['data'])"
   ]
  },
  {
   "cell_type": "code",
   "execution_count": 140,
   "id": "96306903",
   "metadata": {},
   "outputs": [],
   "source": [
    "data_list_of_dfs = [pd.DataFrame(x) for x in data_list]"
   ]
  },
  {
   "cell_type": "code",
   "execution_count": 141,
   "id": "a07d3874",
   "metadata": {},
   "outputs": [],
   "source": [
    "data_df = pd.concat(data_list_of_dfs)"
   ]
  },
  {
   "cell_type": "code",
   "execution_count": 142,
   "id": "3495fe12",
   "metadata": {},
   "outputs": [],
   "source": [
    "pb_df = pd.DataFrame(list(data_df['public_metrics']))"
   ]
  },
  {
   "cell_type": "code",
   "execution_count": 143,
   "id": "b825adc5",
   "metadata": {
    "scrolled": false
   },
   "outputs": [],
   "source": [
    "data_df = data_df.join(pb_df)"
   ]
  },
  {
   "cell_type": "code",
   "execution_count": 144,
   "id": "0b994a15",
   "metadata": {},
   "outputs": [
    {
     "data": {
      "text/html": [
       "<div>\n",
       "<style scoped>\n",
       "    .dataframe tbody tr th:only-of-type {\n",
       "        vertical-align: middle;\n",
       "    }\n",
       "\n",
       "    .dataframe tbody tr th {\n",
       "        vertical-align: top;\n",
       "    }\n",
       "\n",
       "    .dataframe thead th {\n",
       "        text-align: right;\n",
       "    }\n",
       "</style>\n",
       "<table border=\"1\" class=\"dataframe\">\n",
       "  <thead>\n",
       "    <tr style=\"text-align: right;\">\n",
       "      <th></th>\n",
       "      <th>text</th>\n",
       "      <th>created_at</th>\n",
       "      <th>edit_history_tweet_ids</th>\n",
       "      <th>entities</th>\n",
       "      <th>id</th>\n",
       "      <th>public_metrics</th>\n",
       "      <th>lang</th>\n",
       "      <th>author_id</th>\n",
       "      <th>retweet_count</th>\n",
       "      <th>reply_count</th>\n",
       "      <th>like_count</th>\n",
       "      <th>quote_count</th>\n",
       "    </tr>\n",
       "  </thead>\n",
       "  <tbody>\n",
       "    <tr>\n",
       "      <th>0</th>\n",
       "      <td>RT @TheKennyRoda: 🔥New @MGMNorthfield @ReghiRo...</td>\n",
       "      <td>2022-10-25T16:37:24.000Z</td>\n",
       "      <td>[1584947244843040769]</td>\n",
       "      <td>{'mentions': [{'start': 3, 'end': 16, 'usernam...</td>\n",
       "      <td>1584947244843040769</td>\n",
       "      <td>{'retweet_count': 3, 'reply_count': 0, 'like_c...</td>\n",
       "      <td>en</td>\n",
       "      <td>60101194</td>\n",
       "      <td>3</td>\n",
       "      <td>0</td>\n",
       "      <td>0</td>\n",
       "      <td>0</td>\n",
       "    </tr>\n",
       "    <tr>\n",
       "      <th>0</th>\n",
       "      <td>RT @TheKennyRoda: 🔥New @MGMNorthfield @ReghiRo...</td>\n",
       "      <td>2022-10-25T16:37:24.000Z</td>\n",
       "      <td>[1584947244843040769]</td>\n",
       "      <td>{'mentions': [{'start': 3, 'end': 16, 'usernam...</td>\n",
       "      <td>1584947244843040769</td>\n",
       "      <td>{'retweet_count': 3, 'reply_count': 0, 'like_c...</td>\n",
       "      <td>en</td>\n",
       "      <td>60101194</td>\n",
       "      <td>3</td>\n",
       "      <td>0</td>\n",
       "      <td>0</td>\n",
       "      <td>0</td>\n",
       "    </tr>\n",
       "    <tr>\n",
       "      <th>0</th>\n",
       "      <td>RT @TheKennyRoda: 🔥New @MGMNorthfield @ReghiRo...</td>\n",
       "      <td>2022-10-25T16:37:24.000Z</td>\n",
       "      <td>[1584947244843040769]</td>\n",
       "      <td>{'mentions': [{'start': 3, 'end': 16, 'usernam...</td>\n",
       "      <td>1584947244843040769</td>\n",
       "      <td>{'retweet_count': 3, 'reply_count': 0, 'like_c...</td>\n",
       "      <td>en</td>\n",
       "      <td>60101194</td>\n",
       "      <td>3</td>\n",
       "      <td>0</td>\n",
       "      <td>0</td>\n",
       "      <td>0</td>\n",
       "    </tr>\n",
       "    <tr>\n",
       "      <th>0</th>\n",
       "      <td>RT @TheKennyRoda: 🔥New @MGMNorthfield @ReghiRo...</td>\n",
       "      <td>2022-10-25T16:37:24.000Z</td>\n",
       "      <td>[1584947244843040769]</td>\n",
       "      <td>{'mentions': [{'start': 3, 'end': 16, 'usernam...</td>\n",
       "      <td>1584947244843040769</td>\n",
       "      <td>{'retweet_count': 3, 'reply_count': 0, 'like_c...</td>\n",
       "      <td>en</td>\n",
       "      <td>60101194</td>\n",
       "      <td>3</td>\n",
       "      <td>0</td>\n",
       "      <td>0</td>\n",
       "      <td>0</td>\n",
       "    </tr>\n",
       "    <tr>\n",
       "      <th>0</th>\n",
       "      <td>RT @TheKennyRoda: 🔥New @MGMNorthfield @ReghiRo...</td>\n",
       "      <td>2022-10-25T16:37:24.000Z</td>\n",
       "      <td>[1584947244843040769]</td>\n",
       "      <td>{'mentions': [{'start': 3, 'end': 16, 'usernam...</td>\n",
       "      <td>1584947244843040769</td>\n",
       "      <td>{'retweet_count': 3, 'reply_count': 0, 'like_c...</td>\n",
       "      <td>en</td>\n",
       "      <td>60101194</td>\n",
       "      <td>3</td>\n",
       "      <td>0</td>\n",
       "      <td>0</td>\n",
       "      <td>0</td>\n",
       "    </tr>\n",
       "  </tbody>\n",
       "</table>\n",
       "</div>"
      ],
      "text/plain": [
       "                                                text  \\\n",
       "0  RT @TheKennyRoda: 🔥New @MGMNorthfield @ReghiRo...   \n",
       "0  RT @TheKennyRoda: 🔥New @MGMNorthfield @ReghiRo...   \n",
       "0  RT @TheKennyRoda: 🔥New @MGMNorthfield @ReghiRo...   \n",
       "0  RT @TheKennyRoda: 🔥New @MGMNorthfield @ReghiRo...   \n",
       "0  RT @TheKennyRoda: 🔥New @MGMNorthfield @ReghiRo...   \n",
       "\n",
       "                 created_at edit_history_tweet_ids  \\\n",
       "0  2022-10-25T16:37:24.000Z  [1584947244843040769]   \n",
       "0  2022-10-25T16:37:24.000Z  [1584947244843040769]   \n",
       "0  2022-10-25T16:37:24.000Z  [1584947244843040769]   \n",
       "0  2022-10-25T16:37:24.000Z  [1584947244843040769]   \n",
       "0  2022-10-25T16:37:24.000Z  [1584947244843040769]   \n",
       "\n",
       "                                            entities                   id  \\\n",
       "0  {'mentions': [{'start': 3, 'end': 16, 'usernam...  1584947244843040769   \n",
       "0  {'mentions': [{'start': 3, 'end': 16, 'usernam...  1584947244843040769   \n",
       "0  {'mentions': [{'start': 3, 'end': 16, 'usernam...  1584947244843040769   \n",
       "0  {'mentions': [{'start': 3, 'end': 16, 'usernam...  1584947244843040769   \n",
       "0  {'mentions': [{'start': 3, 'end': 16, 'usernam...  1584947244843040769   \n",
       "\n",
       "                                      public_metrics lang author_id  \\\n",
       "0  {'retweet_count': 3, 'reply_count': 0, 'like_c...   en  60101194   \n",
       "0  {'retweet_count': 3, 'reply_count': 0, 'like_c...   en  60101194   \n",
       "0  {'retweet_count': 3, 'reply_count': 0, 'like_c...   en  60101194   \n",
       "0  {'retweet_count': 3, 'reply_count': 0, 'like_c...   en  60101194   \n",
       "0  {'retweet_count': 3, 'reply_count': 0, 'like_c...   en  60101194   \n",
       "\n",
       "   retweet_count  reply_count  like_count  quote_count  \n",
       "0              3            0           0            0  \n",
       "0              3            0           0            0  \n",
       "0              3            0           0            0  \n",
       "0              3            0           0            0  \n",
       "0              3            0           0            0  "
      ]
     },
     "execution_count": 144,
     "metadata": {},
     "output_type": "execute_result"
    }
   ],
   "source": [
    "data_df.head()"
   ]
  },
  {
   "cell_type": "code",
   "execution_count": 149,
   "id": "c8219908",
   "metadata": {},
   "outputs": [],
   "source": [
    "final_df = data_df.drop(['public_metrics', 'edit_history_tweet_ids'], axis = 1)"
   ]
  },
  {
   "cell_type": "raw",
   "id": "b476147f",
   "metadata": {},
   "source": [
    "Here I print out the top 5 presponses of the data frame that was created. "
   ]
  },
  {
   "cell_type": "code",
   "execution_count": 148,
   "id": "811d442d",
   "metadata": {
    "scrolled": true
   },
   "outputs": [
    {
     "data": {
      "text/html": [
       "<div>\n",
       "<style scoped>\n",
       "    .dataframe tbody tr th:only-of-type {\n",
       "        vertical-align: middle;\n",
       "    }\n",
       "\n",
       "    .dataframe tbody tr th {\n",
       "        vertical-align: top;\n",
       "    }\n",
       "\n",
       "    .dataframe thead th {\n",
       "        text-align: right;\n",
       "    }\n",
       "</style>\n",
       "<table border=\"1\" class=\"dataframe\">\n",
       "  <thead>\n",
       "    <tr style=\"text-align: right;\">\n",
       "      <th></th>\n",
       "      <th>text</th>\n",
       "      <th>created_at</th>\n",
       "      <th>entities</th>\n",
       "      <th>id</th>\n",
       "      <th>lang</th>\n",
       "      <th>author_id</th>\n",
       "      <th>retweet_count</th>\n",
       "      <th>reply_count</th>\n",
       "      <th>like_count</th>\n",
       "      <th>quote_count</th>\n",
       "    </tr>\n",
       "  </thead>\n",
       "  <tbody>\n",
       "    <tr>\n",
       "      <th>0</th>\n",
       "      <td>RT @TheKennyRoda: 🔥New @MGMNorthfield @ReghiRo...</td>\n",
       "      <td>2022-10-25T16:37:24.000Z</td>\n",
       "      <td>{'mentions': [{'start': 3, 'end': 16, 'usernam...</td>\n",
       "      <td>1584947244843040769</td>\n",
       "      <td>en</td>\n",
       "      <td>60101194</td>\n",
       "      <td>3</td>\n",
       "      <td>0</td>\n",
       "      <td>0</td>\n",
       "      <td>0</td>\n",
       "    </tr>\n",
       "    <tr>\n",
       "      <th>0</th>\n",
       "      <td>RT @TheKennyRoda: 🔥New @MGMNorthfield @ReghiRo...</td>\n",
       "      <td>2022-10-25T16:37:24.000Z</td>\n",
       "      <td>{'mentions': [{'start': 3, 'end': 16, 'usernam...</td>\n",
       "      <td>1584947244843040769</td>\n",
       "      <td>en</td>\n",
       "      <td>60101194</td>\n",
       "      <td>3</td>\n",
       "      <td>0</td>\n",
       "      <td>0</td>\n",
       "      <td>0</td>\n",
       "    </tr>\n",
       "    <tr>\n",
       "      <th>0</th>\n",
       "      <td>RT @TheKennyRoda: 🔥New @MGMNorthfield @ReghiRo...</td>\n",
       "      <td>2022-10-25T16:37:24.000Z</td>\n",
       "      <td>{'mentions': [{'start': 3, 'end': 16, 'usernam...</td>\n",
       "      <td>1584947244843040769</td>\n",
       "      <td>en</td>\n",
       "      <td>60101194</td>\n",
       "      <td>3</td>\n",
       "      <td>0</td>\n",
       "      <td>0</td>\n",
       "      <td>0</td>\n",
       "    </tr>\n",
       "    <tr>\n",
       "      <th>0</th>\n",
       "      <td>RT @TheKennyRoda: 🔥New @MGMNorthfield @ReghiRo...</td>\n",
       "      <td>2022-10-25T16:37:24.000Z</td>\n",
       "      <td>{'mentions': [{'start': 3, 'end': 16, 'usernam...</td>\n",
       "      <td>1584947244843040769</td>\n",
       "      <td>en</td>\n",
       "      <td>60101194</td>\n",
       "      <td>3</td>\n",
       "      <td>0</td>\n",
       "      <td>0</td>\n",
       "      <td>0</td>\n",
       "    </tr>\n",
       "    <tr>\n",
       "      <th>0</th>\n",
       "      <td>RT @TheKennyRoda: 🔥New @MGMNorthfield @ReghiRo...</td>\n",
       "      <td>2022-10-25T16:37:24.000Z</td>\n",
       "      <td>{'mentions': [{'start': 3, 'end': 16, 'usernam...</td>\n",
       "      <td>1584947244843040769</td>\n",
       "      <td>en</td>\n",
       "      <td>60101194</td>\n",
       "      <td>3</td>\n",
       "      <td>0</td>\n",
       "      <td>0</td>\n",
       "      <td>0</td>\n",
       "    </tr>\n",
       "  </tbody>\n",
       "</table>\n",
       "</div>"
      ],
      "text/plain": [
       "                                                text  \\\n",
       "0  RT @TheKennyRoda: 🔥New @MGMNorthfield @ReghiRo...   \n",
       "0  RT @TheKennyRoda: 🔥New @MGMNorthfield @ReghiRo...   \n",
       "0  RT @TheKennyRoda: 🔥New @MGMNorthfield @ReghiRo...   \n",
       "0  RT @TheKennyRoda: 🔥New @MGMNorthfield @ReghiRo...   \n",
       "0  RT @TheKennyRoda: 🔥New @MGMNorthfield @ReghiRo...   \n",
       "\n",
       "                 created_at  \\\n",
       "0  2022-10-25T16:37:24.000Z   \n",
       "0  2022-10-25T16:37:24.000Z   \n",
       "0  2022-10-25T16:37:24.000Z   \n",
       "0  2022-10-25T16:37:24.000Z   \n",
       "0  2022-10-25T16:37:24.000Z   \n",
       "\n",
       "                                            entities                   id  \\\n",
       "0  {'mentions': [{'start': 3, 'end': 16, 'usernam...  1584947244843040769   \n",
       "0  {'mentions': [{'start': 3, 'end': 16, 'usernam...  1584947244843040769   \n",
       "0  {'mentions': [{'start': 3, 'end': 16, 'usernam...  1584947244843040769   \n",
       "0  {'mentions': [{'start': 3, 'end': 16, 'usernam...  1584947244843040769   \n",
       "0  {'mentions': [{'start': 3, 'end': 16, 'usernam...  1584947244843040769   \n",
       "\n",
       "  lang author_id  retweet_count  reply_count  like_count  quote_count  \n",
       "0   en  60101194              3            0           0            0  \n",
       "0   en  60101194              3            0           0            0  \n",
       "0   en  60101194              3            0           0            0  \n",
       "0   en  60101194              3            0           0            0  \n",
       "0   en  60101194              3            0           0            0  "
      ]
     },
     "execution_count": 148,
     "metadata": {},
     "output_type": "execute_result"
    }
   ],
   "source": [
    "final_df.head()"
   ]
  },
  {
   "cell_type": "markdown",
   "id": "bcb2f735",
   "metadata": {},
   "source": [
    "The quality of the data was pretty good. Unfortunately I had a problem with my function, and it was printing the same 10 tweets 30 different times. That was one thing that held me back on the technical side of things. Another thing was that I could not split the entities up into the data frame but that was not too big of an issue when it came to answering my question. In order for me to get a full range of tweets to see and take into account, I had to constantly change the time so I could look at 10 different tweets and times. Another approach that I could have taken would be to skip the function, and just do what the function does manually. This would have taken much more time so I did not do this hear. With this being said, I was able to collect a lot of data and looking at the different tweets helped me understand what the fans thoughts were on Kevin Stefanski. There was a good amount of tweets that were not very favorable with the current head coach. After reviewing all of the data that was collected, it seems as if the public sentiment is bad toward Kevin, but there are also those who believe that Kevin still deserves a chance at redemption. I read a tweet while researching that actually brought up a good point. Out starting QB is out until game 13, which does not help the team win games at all. That is one thing that I, as well as many others did not think about. I think if I could have read the conversations within the tweets, I would have gotten a better idea of what everyone thinks, but from the likes and retweets of the tweets that I saw, Kevin Stefanski is not a favorable head coach."
   ]
  }
 ],
 "metadata": {
  "kernelspec": {
   "display_name": "Python 3 (ipykernel)",
   "language": "python",
   "name": "python3"
  },
  "language_info": {
   "codemirror_mode": {
    "name": "ipython",
    "version": 3
   },
   "file_extension": ".py",
   "mimetype": "text/x-python",
   "name": "python",
   "nbconvert_exporter": "python",
   "pygments_lexer": "ipython3",
   "version": "3.10.4"
  }
 },
 "nbformat": 4,
 "nbformat_minor": 5
}
